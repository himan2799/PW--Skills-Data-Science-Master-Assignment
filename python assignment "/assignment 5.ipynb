{
 "cells": [
  {
   "cell_type": "markdown",
   "id": "d57eb73f",
   "metadata": {},
   "source": [
    "## Q1. Create a python program to sort the given list of tuples based on integer value using a lambda function.\n",
    "\n",
    "\"[('Sachin Tendulkar', 34357), ('Ricky Ponting', 27483), ('Jack Kallis', 25534), ('Virat Kohli', 24936)]\""
   ]
  },
  {
   "cell_type": "code",
   "execution_count": 2,
   "id": "92ad8f51",
   "metadata": {},
   "outputs": [
    {
     "name": "stdout",
     "output_type": "stream",
     "text": [
      "[('Virat Kohli', 24936), ('Jack Kallis', 25534), ('Ricky Ponting', 27483), ('Sachin Tendulkar', 34357)]\n"
     ]
    }
   ],
   "source": [
    "l = [('Sachin Tendulkar', 34357), ('Ricky Ponting', 27483), ('Jack Kallis', 25534), ('Virat Kohli', 24936)]\n",
    "\n",
    "\n",
    "l.sort(key=lambda x: x[1])\n",
    "\n",
    "print(l)"
   ]
  },
  {
   "cell_type": "markdown",
   "id": "a2280745",
   "metadata": {},
   "source": [
    "## Q2. Write a Python Program to find the squares of all the numbers in the given list of integers using lambda and map functions.\n",
    "\n",
    "\"[1, 2, 3, 4, 5, 6, 7, 8, 9, 10]\""
   ]
  },
  {
   "cell_type": "code",
   "execution_count": 4,
   "id": "784b8e70",
   "metadata": {},
   "outputs": [
    {
     "data": {
      "text/plain": [
       "[1, 4, 9, 16, 25, 36, 49, 64, 81, 100]"
      ]
     },
     "execution_count": 4,
     "metadata": {},
     "output_type": "execute_result"
    }
   ],
   "source": [
    "L1 = [1, 2, 3, 4, 5, 6, 7, 8, 9, 10]\n",
    "\n",
    "list(map(lambda x : x**2 , L1))\n",
    "\n"
   ]
  },
  {
   "cell_type": "markdown",
   "id": "62d89093",
   "metadata": {},
   "source": [
    "## Q3. Write a python program to convert the given list of integers into a tuple of strings. Use map and lambda functions\n",
    "\n",
    "\n",
    "'''Given String: [1, 2, 3, 4, 5, 6, 7, 8, 9, 10]'''\n",
    "\n",
    "'''Expected output: ('1', '2', '3', '4', '5', '6', '7', '8', '9', '10')'''"
   ]
  },
  {
   "cell_type": "code",
   "execution_count": 8,
   "id": "5a1a0e64",
   "metadata": {},
   "outputs": [
    {
     "data": {
      "text/plain": [
       "('1', '2', '3', '4', '5', '6', '7', '8', '9', '10')"
      ]
     },
     "execution_count": 8,
     "metadata": {},
     "output_type": "execute_result"
    }
   ],
   "source": [
    "L2 = [1, 2, 3, 4, 5, 6, 7, 8, 9, 10]\n",
    "\n",
    "tuple(map(lambda y : str(y),L2))"
   ]
  },
  {
   "cell_type": "markdown",
   "id": "908c2203",
   "metadata": {},
   "source": [
    "## Q4. Write a python program using reduce function to compute the product of a list containing numbers from 1 to 25.\n"
   ]
  },
  {
   "cell_type": "code",
   "execution_count": 12,
   "id": "47fad6e2",
   "metadata": {},
   "outputs": [
    {
     "data": {
      "text/plain": [
       "15511210043330985984000000"
      ]
     },
     "execution_count": 12,
     "metadata": {},
     "output_type": "execute_result"
    }
   ],
   "source": [
    "from functools import reduce\n",
    "\n",
    "total = range(1,26)\n",
    "\n",
    "reduce(lambda x,y : x*y, total)"
   ]
  },
  {
   "cell_type": "markdown",
   "id": "301c483e",
   "metadata": {},
   "source": [
    "## Q5. Write a python program to filter the numbers in a given list that are divisible by 2 and 3 using the filter function.\n",
    "\n",
    "''[2, 3, 6, 9, 27, 60, 90, 120, 55, 46]''"
   ]
  },
  {
   "cell_type": "code",
   "execution_count": 15,
   "id": "7c87babc",
   "metadata": {},
   "outputs": [
    {
     "data": {
      "text/plain": [
       "[6, 60, 90, 120]"
      ]
     },
     "execution_count": 15,
     "metadata": {},
     "output_type": "execute_result"
    }
   ],
   "source": [
    " num =[2, 3, 6, 9, 27, 60, 90, 120, 55, 46]\n",
    "    \n",
    "list(filter(lambda x  : x%2==0 and x%3==0,num))"
   ]
  },
  {
   "cell_type": "markdown",
   "id": "760e8efc",
   "metadata": {},
   "source": [
    "## Q6. Write a python program to find palindromes in the given list of strings using lambda and filter function.\n",
    "\n",
    "' ['python', 'php',  'aba', 'radar', 'level'] '"
   ]
  },
  {
   "cell_type": "code",
   "execution_count": 22,
   "id": "815612c2",
   "metadata": {},
   "outputs": [
    {
     "name": "stdout",
     "output_type": "stream",
     "text": [
      "['php', 'aba', 'radar', 'level']\n"
     ]
    }
   ],
   "source": [
    "strings = ['python', 'php', 'aba', 'radar', 'level']\n",
    "\n",
    "palindromes = list(filter(lambda x: x == x[::-1], strings))\n",
    "\n",
    "print( palindromes)\n"
   ]
  },
  {
   "cell_type": "code",
   "execution_count": null,
   "id": "9ab7c2bf",
   "metadata": {},
   "outputs": [],
   "source": []
  }
 ],
 "metadata": {
  "kernelspec": {
   "display_name": "Python 3 (ipykernel)",
   "language": "python",
   "name": "python3"
  },
  "language_info": {
   "codemirror_mode": {
    "name": "ipython",
    "version": 3
   },
   "file_extension": ".py",
   "mimetype": "text/x-python",
   "name": "python",
   "nbconvert_exporter": "python",
   "pygments_lexer": "ipython3",
   "version": "3.9.13"
  }
 },
 "nbformat": 4,
 "nbformat_minor": 5
}
