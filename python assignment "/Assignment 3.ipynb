{
 "cells": [
  {
   "cell_type": "markdown",
   "id": "39c9c9ab",
   "metadata": {},
   "source": [
    "## Q1 What are the characterstics of tuples ? is tuple immutable?\n",
    "\n",
    "ANS = 1)Tuples are used to store multiple items in a single variable \n",
    "\n",
    "2)A tuple is a collection which is ordered and unchangeable\n",
    "\n",
    "3)Tuples are written with round brackets\n",
    "\n"
   ]
  },
  {
   "cell_type": "markdown",
   "id": "7855ea7c",
   "metadata": {},
   "source": [
    "## Q2 What are the two tuple methods in python? Give an example of each method. Give a reason why tuples have only two in-built methods as compared to Lists.\n"
   ]
  },
  {
   "cell_type": "markdown",
   "id": "86c17c2c",
   "metadata": {},
   "source": [
    "ANS = There are two in-built methods for tuples in Python:\n",
    "\n",
    "count(): This method is used to count the number of occurrences of a specified element in a tuple.\n",
    "Example:\n",
    "\n",
    "    my_tuple = (1, 2, 3, 4, 3, 5, 3)\n",
    "count_of_three = my_tuple.count(3)\n",
    "print(count_of_three)\n",
    "\n",
    "index(): This method returns the index of the first occurrence of a specified element in a tuple.\n",
    "Example:\n",
    "     \n",
    "        my_tuple = (1, 2, 3, 4, 3, 5, 3)\n",
    "index_of_five = my_tuple.index(5)\n",
    "print(index_of_five)\n",
    "\n",
    "Tuples are designed to be immutable, meaning their contents cannot be changed after they are created. This makes it unnecessary for them to have many built-in methods like lists, which are mutable and therefore require methods for adding, removing, and modifying elements. \n"
   ]
  },
  {
   "cell_type": "markdown",
   "id": "7641445a",
   "metadata": {},
   "source": [
    "## Q3 Which collection datatypes in python do not allow duplicate items? Write a code using a set to remove duplicates from the given list.\n"
   ]
  },
  {
   "cell_type": "code",
   "execution_count": 4,
   "id": "1f49598a",
   "metadata": {},
   "outputs": [],
   "source": [
    "List = [1, 1, 1, 2, 1, 3, 1, 4, 2, 1, 2, 2, 2, 3, 2, 4, 3, 1, 3, 2, 3, 3, 3, 4, 4, 1, 4, 2, 4, 3, 4, 4]\n",
    "\n",
    "unique_value= set(List)"
   ]
  },
  {
   "cell_type": "code",
   "execution_count": 5,
   "id": "d79c1e7e",
   "metadata": {},
   "outputs": [
    {
     "data": {
      "text/plain": [
       "{1, 2, 3, 4}"
      ]
     },
     "execution_count": 5,
     "metadata": {},
     "output_type": "execute_result"
    }
   ],
   "source": [
    "unique_value"
   ]
  },
  {
   "cell_type": "markdown",
   "id": "37adcb18",
   "metadata": {},
   "source": [
    "## Q4. Explain the difference between the union() and update() methods for a set. Give an example of each method.\n"
   ]
  },
  {
   "cell_type": "code",
   "execution_count": 9,
   "id": "b2b70a82",
   "metadata": {},
   "outputs": [
    {
     "name": "stdout",
     "output_type": "stream",
     "text": [
      "{1, 2, 3, 4, 5, 6, 7}\n",
      "{1, 2, 3, 4, 5, 6, 7}\n"
     ]
    }
   ],
   "source": [
    "\"\"\"Both union() and update() methods are used to combine two or more sets into a new set, but they differ in how they handle the original sets.\n",
    "\n",
    "union() method creates a new set by combining the elements from two or more sets. It returns a new set that contains all the unique elements from all the sets. The original sets remain unchanged.\n",
    "\n",
    "Example:\"\"\"\n",
    "\n",
    "set1 = {1, 2, 3}\n",
    "set2 = {3, 4, 5}\n",
    "set3 = {5, 6, 7}\n",
    "\n",
    "new_set = set1.union(set2, set3)\n",
    "print(new_set)\n",
    "\n",
    "\"\"\"In this example, we use the union() method to create a new set new_set that contains all the unique elements from set1, set2, and set3.\n",
    "\n",
    "update() method updates the original set by adding all the elements from one or more sets to it. The original set is modified in place.\n",
    "\n",
    "Example:\"\"\"\n",
    "\n",
    "\n",
    "set3 = {1, 2, 3}\n",
    "set4 = {3, 4, 5}\n",
    "set5 = {5, 6, 7}\n",
    "\n",
    " \n",
    "set3.update(set4,set5)\n",
    "print(set3)\n",
    "\n",
    "\n",
    "\n",
    "\n",
    "\n"
   ]
  },
  {
   "cell_type": "markdown",
   "id": "744c2476",
   "metadata": {},
   "source": [
    "## Q5. What is a dictionary? Give an example. Also, state whether a dictionary is ordered or unordered."
   ]
  },
  {
   "cell_type": "code",
   "execution_count": 11,
   "id": "ff74e212",
   "metadata": {},
   "outputs": [
    {
     "name": "stdout",
     "output_type": "stream",
     "text": [
      "35\n",
      "45\n"
     ]
    }
   ],
   "source": [
    "\"\"\" In Python, a dictionary is a collection of key-value pairs, where each key is unique and associated with a value. The key-value pairs are separated by colons and enclosed in curly braces.\n",
    "\n",
    "Here is an example of a dictionary that stores the ages of different people:\"\"\"\n",
    "\n",
    "ages = {\"John\": 35, \"Mary\": 27, \"Bob\": 45, \"Jane\": 22}\n",
    "print(ages[\"John\"])   # Output: 35\n",
    "print(ages[\"Bob\"])    # Output: 45\n",
    "\n",
    "## The dictionaries are unordered, which means that the order of the key-value pairs is not fixed.\n"
   ]
  },
  {
   "cell_type": "markdown",
   "id": "4f2c8417",
   "metadata": {},
   "source": [
    "## Q6. Can we create a nested dictionary? If so, please give an example by creating a simple one-level nested dictionary.\n",
    "\n"
   ]
  },
  {
   "cell_type": "code",
   "execution_count": 16,
   "id": "1077596e",
   "metadata": {},
   "outputs": [
    {
     "name": "stdout",
     "output_type": "stream",
     "text": [
      "2\n"
     ]
    }
   ],
   "source": [
    "\"\"\" Yes we can create a nested dictionary and here is the example \"\"\"\n",
    "\n",
    "numbers={\"number1\":{'num1':'2'},\"number2\":{'num2':'5'}}\n",
    "print(numbers[\"number1\"]['num1'])"
   ]
  },
  {
   "cell_type": "markdown",
   "id": "2ef7d291",
   "metadata": {},
   "source": [
    "## Q7. Using setdefault() method, create key named topics in the given dictionary and also add the value of the key as this list ['Python', 'Machine Learning’, 'Deep Learning']\n"
   ]
  },
  {
   "cell_type": "code",
   "execution_count": 22,
   "id": "dce9b9c9",
   "metadata": {},
   "outputs": [
    {
     "name": "stdout",
     "output_type": "stream",
     "text": [
      "{'language': 'Python', 'course': 'Data Science Masters', 'Topics': ['Python', 'Machine Learning', 'Deep Learning']}\n"
     ]
    }
   ],
   "source": [
    "dict1 = {'language' : 'Python', 'course': 'Data Science Masters'}\n",
    "\n",
    "dict1.setdefault('Topics', ['Python', 'Machine Learning', 'Deep Learning'])\n",
    "\n",
    "print(dict1)"
   ]
  },
  {
   "cell_type": "markdown",
   "id": "788f307f",
   "metadata": {},
   "source": [
    "## Q8. What are the three view objects in dictionaries? Use the three in-built methods in python to display\n",
    "these three view objects for the given dictionary."
   ]
  },
  {
   "cell_type": "code",
   "execution_count": 27,
   "id": "7bb24ce2",
   "metadata": {},
   "outputs": [
    {
     "name": "stdout",
     "output_type": "stream",
     "text": [
      "dict_keys(['Sport', 'Teams'])\n",
      "dict_values(['Cricket', ['India', 'Australia', 'England', 'South Africa', 'Sri Lanka', 'New Zealand']])\n",
      "dict_items([('Sport', 'Cricket'), ('Teams', ['India', 'Australia', 'England', 'South Africa', 'Sri Lanka', 'New Zealand'])])\n"
     ]
    }
   ],
   "source": [
    "\"\"\" In Python, dictionaries provide three different view objects that can be used to access various aspects of the dictionary without actually modifying it. These view objects are:\n",
    "\n",
    "keys() - This returns a view object that contains the keys of the dictionary.\n",
    "values() - This returns a view object that contains the values of the dictionary.\n",
    "items() - This returns a view object that contains the key-value pairs of the dictionary as tuples.\"\"\"\n",
    "\n",
    "dict1 = {'Sport': 'Cricket', 'Teams': ['India', 'Australia', 'England', 'South Africa', 'Sri Lanka', 'New Zealand']}\n",
    "\n",
    "# Display the keys view object\n",
    "print(dict1.keys())\n",
    "\n",
    "# Display the values view object\n",
    "print(dict1.values())\n",
    "\n",
    "# Display the items view object\n",
    "print(dict1.items())"
   ]
  },
  {
   "cell_type": "code",
   "execution_count": null,
   "id": "af1c3a1c",
   "metadata": {},
   "outputs": [],
   "source": []
  }
 ],
 "metadata": {
  "kernelspec": {
   "display_name": "Python 3 (ipykernel)",
   "language": "python",
   "name": "python3"
  },
  "language_info": {
   "codemirror_mode": {
    "name": "ipython",
    "version": 3
   },
   "file_extension": ".py",
   "mimetype": "text/x-python",
   "name": "python",
   "nbconvert_exporter": "python",
   "pygments_lexer": "ipython3",
   "version": "3.9.13"
  }
 },
 "nbformat": 4,
 "nbformat_minor": 5
}
