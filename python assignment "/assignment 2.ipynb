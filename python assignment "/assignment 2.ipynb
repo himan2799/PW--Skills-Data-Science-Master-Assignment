{
 "cells": [
  {
   "cell_type": "markdown",
   "id": "bff5aae0",
   "metadata": {},
   "source": [
    "# ASSIGNMENT 30th JAN\n"
   ]
  },
  {
   "cell_type": "code",
   "execution_count": 1,
   "id": "32b58f66",
   "metadata": {},
   "outputs": [
    {
     "name": "stdout",
     "output_type": "stream",
     "text": [
      "Enter your percentage:85\n",
      "Your grade is B\n"
     ]
    }
   ],
   "source": [
    "percentage=int(input('Enter your percentage:'))\n",
    "\n",
    "\n",
    "\n",
    "if percentage > 90:\n",
    "    print('Your grade is A')\n",
    "elif percentage > 80 and percentage <= 90:\n",
    "    print('Your grade is B')\n",
    "elif percentage >= 60 and percentage <= 80:\n",
    "    print('Your grade is C')\n",
    "else:\n",
    "    print('Your grade is D')"
   ]
  },
  {
   "cell_type": "markdown",
   "id": "b5b7dae5",
   "metadata": {},
   "source": [
    "## QUESTION 2"
   ]
  },
  {
   "cell_type": "code",
   "execution_count": 4,
   "id": "ce2cb5a5",
   "metadata": {},
   "outputs": [
    {
     "name": "stdout",
     "output_type": "stream",
     "text": [
      "cost price of bike100000\n",
      "Your road tax amount is 10%\n"
     ]
    }
   ],
   "source": [
    "price = int(input('cost price of bike'))\n",
    "\n",
    "\n",
    "if price > 100000:\n",
    "    print('Your road tax amount is 15%')\n",
    "elif price > 50000 and price <= 100000:\n",
    "    print('Your road tax amount is 10%')\n",
    "else:\n",
    "    print('Your road tax amount is 5%')\n",
    "\n",
    "\n",
    "\n"
   ]
  },
  {
   "cell_type": "markdown",
   "id": "2bcd8416",
   "metadata": {},
   "source": [
    " ## QUESTION 3"
   ]
  },
  {
   "cell_type": "code",
   "execution_count": 1,
   "id": "fb6d1852",
   "metadata": {},
   "outputs": [
    {
     "name": "stdout",
     "output_type": "stream",
     "text": [
      "which is your city:Agra\n",
      "Monument of your city is Taj Mahal\n"
     ]
    }
   ],
   "source": [
    "city = input('which is your city:')\n",
    "\n",
    "if city == 'Delhi':\n",
    "    print('Monument of your city is Red Fort')\n",
    "elif city == 'Agra':\n",
    "    print('Monument of your city is Taj Mahal')\n",
    "elif city == 'Jaipur':\n",
    "    print('Monument of your city is Jal Mahal')"
   ]
  },
  {
   "cell_type": "markdown",
   "id": "c5ad7fcc",
   "metadata": {},
   "source": [
    "## QUESTION 4"
   ]
  },
  {
   "cell_type": "code",
   "execution_count": 14,
   "id": "bc33bc92",
   "metadata": {},
   "outputs": [
    {
     "name": "stdout",
     "output_type": "stream",
     "text": [
      "Enter a number: 50\n",
      "2\n"
     ]
    }
   ],
   "source": [
    "n = int(input(\"Enter a number: \"))\n",
    "count = 0\n",
    "while n > 10:\n",
    "    n = n // 3  # integer division to get the quotient\n",
    "    count += 1\n",
    "print( count)\n",
    "\n"
   ]
  },
  {
   "cell_type": "markdown",
   "id": "4f191c2c",
   "metadata": {},
   "source": [
    "## QUESTION 5\n"
   ]
  },
  {
   "cell_type": "markdown",
   "id": "bfc14098",
   "metadata": {},
   "source": [
    "''' Python while loop is used to run a block code until a certain condition is met.\n",
    "      The syntax of while loop is:\n",
    "      while condition:\n",
    "      # body of while loop\n",
    "      Here,\n",
    "      A while loop evaluates the condition\n",
    "      If the condition evaluates to True, the code inside the while loop is executed.\n",
    "      condition is evaluated again.\n",
    "      This process continues until the condition is False.\n",
    "      When condition evaluates to False, the loop stops'''\n"
   ]
  },
  {
   "cell_type": "markdown",
   "id": "ee10dc71",
   "metadata": {},
   "source": [
    "## QUESTION 6"
   ]
  },
  {
   "cell_type": "code",
   "execution_count": 7,
   "id": "642fec95",
   "metadata": {},
   "outputs": [
    {
     "name": "stdout",
     "output_type": "stream",
     "text": [
      "Enter the number : 12\n",
      "1\n",
      "12\n",
      "123\n",
      "1234\n",
      "12345\n",
      "123456\n",
      "1234567\n",
      "12345678\n",
      "123456789\n",
      "12345678910\n",
      "1234567891011\n",
      "123456789101112\n"
     ]
    }
   ],
   "source": [
    "'Example 1'\n",
    "n = int(input(\"Enter the number : \"))\n",
    "\n",
    "i = 1\n",
    "while i <= n:\n",
    "    j = 1\n",
    "    while j <= i:\n",
    "        print(j, end=\"\")\n",
    "        j += 1\n",
    "    print()\n",
    "    i += 1\n"
   ]
  },
  {
   "cell_type": "code",
   "execution_count": 6,
   "id": "68f1028e",
   "metadata": {},
   "outputs": [
    {
     "name": "stdout",
     "output_type": "stream",
     "text": [
      "Enter the number : 20\n",
      "*\n",
      "**\n",
      "***\n",
      "****\n",
      "*****\n",
      "******\n",
      "*******\n",
      "********\n",
      "*********\n",
      "**********\n",
      "***********\n",
      "************\n",
      "*************\n",
      "**************\n",
      "***************\n",
      "****************\n",
      "*****************\n",
      "******************\n",
      "*******************\n",
      "********************\n"
     ]
    }
   ],
   "source": [
    "'Example 2'\n",
    "n = int(input(\"Enter the number : \"))\n",
    "\n",
    "i = 1\n",
    "while i <= n:\n",
    "    j = 1\n",
    "    while j <= i:\n",
    "        print(\"*\", end=\"\")\n",
    "        j += 1\n",
    "    print()\n",
    "    i += 1\n"
   ]
  },
  {
   "cell_type": "code",
   "execution_count": 5,
   "id": "27d24813",
   "metadata": {},
   "outputs": [
    {
     "name": "stdout",
     "output_type": "stream",
     "text": [
      "Enter the height of the pyramid: 20\n",
      "                   *\n",
      "                  ***\n",
      "                 *****\n",
      "                *******\n",
      "               *********\n",
      "              ***********\n",
      "             *************\n",
      "            ***************\n",
      "           *****************\n",
      "          *******************\n",
      "         *********************\n",
      "        ***********************\n",
      "       *************************\n",
      "      ***************************\n",
      "     *****************************\n",
      "    *******************************\n",
      "   *********************************\n",
      "  ***********************************\n",
      " *************************************\n",
      "***************************************\n"
     ]
    }
   ],
   "source": [
    "'Example 3'\n",
    "n = int(input(\"Enter the number: \"))\n",
    "\n",
    "i = 1\n",
    "while i <= n:\n",
    "    # Print spaces before the asterisks\n",
    "    j = 1\n",
    "    while j <= n-i:\n",
    "        print(\" \", end=\"\")\n",
    "        j += 1\n",
    "    # Print asterisks\n",
    "    j = 1\n",
    "    while j <= 2*i-1:\n",
    "        print(\"*\", end=\"\")\n",
    "        j += 1\n",
    "    print()\n",
    "    i += 1\n"
   ]
  },
  {
   "cell_type": "markdown",
   "id": "96bfc03d",
   "metadata": {},
   "source": [
    "## QUESTION 7\n"
   ]
  },
  {
   "cell_type": "code",
   "execution_count": 18,
   "id": "d3bd503d",
   "metadata": {},
   "outputs": [
    {
     "name": "stdout",
     "output_type": "stream",
     "text": [
      "10\n",
      "9\n",
      "8\n",
      "7\n",
      "6\n",
      "5\n",
      "4\n",
      "3\n",
      "2\n",
      "1\n"
     ]
    }
   ],
   "source": [
    "n=11\n",
    "while n > 1:\n",
    "    n=n-1\n",
    "    print(n)"
   ]
  },
  {
   "cell_type": "code",
   "execution_count": null,
   "id": "e2e1c89f",
   "metadata": {},
   "outputs": [],
   "source": []
  }
 ],
 "metadata": {
  "kernelspec": {
   "display_name": "Python 3 (ipykernel)",
   "language": "python",
   "name": "python3"
  },
  "language_info": {
   "codemirror_mode": {
    "name": "ipython",
    "version": 3
   },
   "file_extension": ".py",
   "mimetype": "text/x-python",
   "name": "python",
   "nbconvert_exporter": "python",
   "pygments_lexer": "ipython3",
   "version": "3.9.13"
  }
 },
 "nbformat": 4,
 "nbformat_minor": 5
}
