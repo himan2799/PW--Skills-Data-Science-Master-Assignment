{
 "cells": [
  {
   "cell_type": "markdown",
   "id": "acafadfa",
   "metadata": {},
   "source": [
    "## Q1. Which keyword is used to create a function? Create a function to return a list of odd numbers in the range of 1 to 25.\n"
   ]
  },
  {
   "cell_type": "markdown",
   "id": "5846608f",
   "metadata": {},
   "source": [
    "ANS = Python's def() keyword is used to create a function"
   ]
  },
  {
   "cell_type": "code",
   "execution_count": 3,
   "id": "a5e28b2a",
   "metadata": {},
   "outputs": [
    {
     "data": {
      "text/plain": [
       "[1, 3, 5, 7, 9, 11, 13, 15, 17, 19, 21, 23, 25]"
      ]
     },
     "execution_count": 3,
     "metadata": {},
     "output_type": "execute_result"
    }
   ],
   "source": [
    "def odd_num():\n",
    "    l=[]\n",
    "    for x in range(1,26):\n",
    "        if x % 2 != 0:\n",
    "            l.append(x)\n",
    "    return l\n",
    "\n",
    "odd_num()"
   ]
  },
  {
   "cell_type": "markdown",
   "id": "2945ea33",
   "metadata": {},
   "source": [
    "## Q2. Why *args and **kwargs is used in some functions? Create a function each for *args and **kwargs to demonstrate their use.\n"
   ]
  },
  {
   "cell_type": "markdown",
   "id": "f9177fff",
   "metadata": {},
   "source": [
    "ANS = *args and **kwargs are used in functions to allow for variable numbers of arguments to be passed into the function.\n"
   ]
  },
  {
   "cell_type": "code",
   "execution_count": 4,
   "id": "46c61684",
   "metadata": {},
   "outputs": [
    {
     "data": {
      "text/plain": [
       "(1, 33, 4, 5, 66)"
      ]
     },
     "execution_count": 4,
     "metadata": {},
     "output_type": "execute_result"
    }
   ],
   "source": [
    "## example for *args\n",
    "\n",
    "\n",
    "\n",
    "def func(*args):\n",
    "    return args\n",
    "func(1,33,4,5,66)\n"
   ]
  },
  {
   "cell_type": "code",
   "execution_count": 5,
   "id": "03898ec5",
   "metadata": {},
   "outputs": [
    {
     "data": {
      "text/plain": [
       "{'a': 99, 'b': 55, 'c': 9.9}"
      ]
     },
     "execution_count": 5,
     "metadata": {},
     "output_type": "execute_result"
    }
   ],
   "source": [
    " ## example for **kwargs\n",
    "    \n",
    "    \n",
    "def func1(**kwargs):\n",
    "    for key,value in kwargs.items():\n",
    "        return kwargs\n",
    "func1(a=99,b=55,c=9.9)"
   ]
  },
  {
   "cell_type": "markdown",
   "id": "24713edb",
   "metadata": {},
   "source": [
    "## Q3. What is an iterator in python? Name the method used to initialise the iterator object and the method used for iteration. Use these methods to print the first five elements of the given list [2, 4, 6, 8, 10, 12, 14, 16,18, 20].\n"
   ]
  },
  {
   "cell_type": "markdown",
   "id": "75310d19",
   "metadata": {},
   "source": [
    "ANS = In Python, an iterator is an object that implements the iterator protocol, which consists of two methods: __iter__() and __next__().\n",
    "\n",
    "__iter__() method: This method is used to initialize the iterator object. It should return the iterator object itself. It is called when an iterator is created for an object and is typically used to perform any setup or initialization required for the iteration process.\n",
    "\n",
    "__next__() method: This method is used to get the next value from the iterator. It should return the next value in the sequence or raise the StopIteration exception if there are no more items to be returned. It is called each time the next value is requested during the iteration process.\n"
   ]
  },
  {
   "cell_type": "code",
   "execution_count": 7,
   "id": "b4879c45",
   "metadata": {},
   "outputs": [
    {
     "name": "stdout",
     "output_type": "stream",
     "text": [
      "2\n",
      "4\n",
      "6\n",
      "8\n",
      "10\n"
     ]
    }
   ],
   "source": [
    "'Example of using an iterator to print the first five elements of a given list'\n",
    "\n",
    "\n",
    "class MyListIterator:\n",
    "    def __init__(self, my_list):\n",
    "        self.my_list = my_list\n",
    "        self.index = 0\n",
    "\n",
    "    def __iter__(self):\n",
    "        return self\n",
    "\n",
    "    def __next__(self):\n",
    "        if self.index >= len(self.my_list):\n",
    "            raise StopIteration\n",
    "        else:\n",
    "            self.index += 1\n",
    "            return self.my_list[self.index - 1]\n",
    "\n",
    "# Given list\n",
    "my_list = [2, 4, 6, 8, 10, 12, 14, 16, 18, 20]\n",
    "\n",
    "# Initialize iterator object\n",
    "my_iterator = MyListIterator(my_list)\n",
    "\n",
    "# Print the first five elements using iteration\n",
    "for i in range(5):\n",
    "    print(next(my_iterator))"
   ]
  },
  {
   "cell_type": "markdown",
   "id": "8451f730",
   "metadata": {},
   "source": [
    "## Q4. What is a generator function in python? Why yield keyword is used? Give an example of a generator function.\n"
   ]
  },
  {
   "cell_type": "markdown",
   "id": "43399ed1",
   "metadata": {},
   "source": [
    "ANS = In Python, a generator function is a special type of function that uses the yield keyword to produce a series of values one at a time, on demand, when iterated over. Unlike regular functions that return a value and terminate, generator functions can pause their execution and save their state, allowing them to be resumed later from where they left off. This makes them very efficient for generating large sequences of values or for processing data in chunks.\n",
    "\n",
    "The yield keyword is used in a generator function to produce a value and pause the function's execution until the next value is requested. The state of the function, including the local variables, is saved, and the function can be resumed later from where it left off. This allows generator functions to produce values on-the-fly, only when needed, which can be very memory-efficient and time-saving.\n"
   ]
  },
  {
   "cell_type": "code",
   "execution_count": 8,
   "id": "96434a60",
   "metadata": {},
   "outputs": [
    {
     "name": "stdout",
     "output_type": "stream",
     "text": [
      "5\n",
      "4\n",
      "3\n",
      "2\n",
      "1\n"
     ]
    }
   ],
   "source": [
    "'example of a generator function in Python'\n",
    "\n",
    "\n",
    "def number(i):\n",
    "    while i > 0:\n",
    "        yield i\n",
    "        i-=1\n",
    "        \n",
    "for num in number(5):\n",
    "    print(num)"
   ]
  },
  {
   "cell_type": "markdown",
   "id": "de86fbe2",
   "metadata": {},
   "source": [
    "## Q5. Create a generator function for prime numbers less than 1000. Use the next() method to print the first 20 prime numbers.\n"
   ]
  },
  {
   "cell_type": "code",
   "execution_count": 9,
   "id": "b07be29b",
   "metadata": {},
   "outputs": [
    {
     "name": "stdout",
     "output_type": "stream",
     "text": [
      "2\n",
      "3\n",
      "5\n",
      "7\n",
      "11\n",
      "13\n",
      "17\n",
      "19\n",
      "23\n",
      "29\n",
      "31\n",
      "37\n",
      "41\n",
      "43\n",
      "47\n",
      "53\n",
      "59\n",
      "61\n",
      "67\n",
      "71\n"
     ]
    }
   ],
   "source": [
    "def prime_num():\n",
    "    primes = []\n",
    "    num = 2\n",
    "    while True:\n",
    "        if all(num % prime != 0 for prime in primes):\n",
    "            primes.append(num)\n",
    "            yield num\n",
    "        num += 1\n",
    "\n",
    "# Initialize the generator\n",
    "my_prime_generator = prime_num()\n",
    "\n",
    "# Print the first 20 prime numbers\n",
    "for i in range(20):\n",
    "    print(next(my_prime_generator))"
   ]
  },
  {
   "cell_type": "code",
   "execution_count": null,
   "id": "38f21565",
   "metadata": {},
   "outputs": [],
   "source": []
  }
 ],
 "metadata": {
  "kernelspec": {
   "display_name": "Python 3 (ipykernel)",
   "language": "python",
   "name": "python3"
  },
  "language_info": {
   "codemirror_mode": {
    "name": "ipython",
    "version": 3
   },
   "file_extension": ".py",
   "mimetype": "text/x-python",
   "name": "python",
   "nbconvert_exporter": "python",
   "pygments_lexer": "ipython3",
   "version": "3.9.13"
  }
 },
 "nbformat": 4,
 "nbformat_minor": 5
}
