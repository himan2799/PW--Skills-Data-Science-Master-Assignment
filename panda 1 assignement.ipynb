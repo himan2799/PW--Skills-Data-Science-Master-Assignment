{
 "cells": [
  {
   "cell_type": "markdown",
   "id": "bc2e6484",
   "metadata": {},
   "source": [
    "Q1. Create a Pandas Series that contains the following data: 4, 8, 15, 16, 23, and 42. Then, print the series."
   ]
  },
  {
   "cell_type": "code",
   "execution_count": 7,
   "id": "f2672799",
   "metadata": {},
   "outputs": [
    {
     "data": {
      "text/plain": [
       "0     4\n",
       "1     8\n",
       "2    15\n",
       "3    16\n",
       "4    23\n",
       "5    42\n",
       "dtype: int64"
      ]
     },
     "execution_count": 7,
     "metadata": {},
     "output_type": "execute_result"
    }
   ],
   "source": [
    "import pandas as pd\n",
    "df = pd.Series([ 4, 8, 15, 16, 23, 42])\n",
    "df"
   ]
  },
  {
   "cell_type": "markdown",
   "id": "9b96dfca",
   "metadata": {},
   "source": [
    "Q2. Create a variable of list type containing 10 elements in it, and apply pandas.Series function on the variable print it.\n"
   ]
  },
  {
   "cell_type": "code",
   "execution_count": 10,
   "id": "fc54aec2",
   "metadata": {},
   "outputs": [
    {
     "data": {
      "text/plain": [
       "0     1\n",
       "1     2\n",
       "2     3\n",
       "3     4\n",
       "4     5\n",
       "5     6\n",
       "6     7\n",
       "7     8\n",
       "8     9\n",
       "9    10\n",
       "dtype: int64"
      ]
     },
     "execution_count": 10,
     "metadata": {},
     "output_type": "execute_result"
    }
   ],
   "source": [
    "l1=[1,2,3,4,5,6,7,8,9,10]\n",
    "df1=pd.Series(l1)\n",
    "df1"
   ]
  },
  {
   "cell_type": "markdown",
   "id": "dfe63dd8",
   "metadata": {},
   "source": [
    "Create a Pandas DataFrame that contains the following data,Then, print the DataFrame.\n",
    "\n"
   ]
  },
  {
   "cell_type": "code",
   "execution_count": 19,
   "id": "28a6024d",
   "metadata": {},
   "outputs": [
    {
     "data": {
      "text/html": [
       "<div>\n",
       "<style scoped>\n",
       "    .dataframe tbody tr th:only-of-type {\n",
       "        vertical-align: middle;\n",
       "    }\n",
       "\n",
       "    .dataframe tbody tr th {\n",
       "        vertical-align: top;\n",
       "    }\n",
       "\n",
       "    .dataframe thead th {\n",
       "        text-align: right;\n",
       "    }\n",
       "</style>\n",
       "<table border=\"1\" class=\"dataframe\">\n",
       "  <thead>\n",
       "    <tr style=\"text-align: right;\">\n",
       "      <th></th>\n",
       "      <th>Name</th>\n",
       "      <th>Age</th>\n",
       "      <th>Gender</th>\n",
       "    </tr>\n",
       "  </thead>\n",
       "  <tbody>\n",
       "    <tr>\n",
       "      <th>0</th>\n",
       "      <td>Alice</td>\n",
       "      <td>25</td>\n",
       "      <td>Female</td>\n",
       "    </tr>\n",
       "    <tr>\n",
       "      <th>1</th>\n",
       "      <td>Bob</td>\n",
       "      <td>30</td>\n",
       "      <td>Male</td>\n",
       "    </tr>\n",
       "    <tr>\n",
       "      <th>2</th>\n",
       "      <td>Claire</td>\n",
       "      <td>27</td>\n",
       "      <td>Female</td>\n",
       "    </tr>\n",
       "  </tbody>\n",
       "</table>\n",
       "</div>"
      ],
      "text/plain": [
       "     Name  Age  Gender\n",
       "0   Alice   25  Female\n",
       "1     Bob   30    Male\n",
       "2  Claire   27  Female"
      ]
     },
     "execution_count": 19,
     "metadata": {},
     "output_type": "execute_result"
    }
   ],
   "source": [
    "\n",
    "\n",
    "\n",
    "data = {'Name': ['Alice' ,  'Bob' ,  'Claire'],\n",
    "\n",
    "        'Age': [25, 30, 27],\n",
    "\n",
    "        'Gender': ['Female', 'Male', 'Female']}\n",
    "df = pd.DataFrame(data)\n",
    "df"
   ]
  },
  {
   "cell_type": "code",
   "execution_count": 23,
   "id": "11ce6516",
   "metadata": {},
   "outputs": [
    {
     "name": "stdout",
     "output_type": "stream",
     "text": [
      "      Name  Age  Gender\n",
      "0    Alice   25  Female\n",
      "1      Bob   30    Male\n",
      "2  Charlie   35    Male\n"
     ]
    }
   ],
   "source": [
    "'''Q.4> What is ‘DataFrame’ in pandas and how is it different from pandas.series? Explain with an example.\n",
    "   Ans>  In Pandas, a DataFrame is a two-dimensional labeled data structure with columns of potentially \n",
    "         different data types. It is similar to a spreadsheet  or a  SQL table. In a DataFrame , data is \n",
    "         organized in rows and columns, where each column can be considered as a Pandas Series.\n",
    "\n",
    "         On the other hand, a Series in Pandas is a one-dimensional labeled array that can contain data of any \n",
    "         data type, including integers, strings, and floating-point numbers. It is similar to a column in a \n",
    "         spreadsheet or a SQL table.\n",
    "\n",
    "         The main difference between a DataFrame and a Series is that a DataFrame is a two-dimensional data \n",
    "         structure with rows and columns, while a Series is a one-dimensional data structure with only one column.\n",
    "         Here's an example to illustrate the difference between a DataFrame and a Series:\n",
    "\n",
    "         Suppose we have the following data:\n",
    "         Name(Alice , Bob, Charlie) , Age(25, 3, 35) , Gender (Female,Male ,Male)\n",
    "         We can represent this data using a DataFrame in Pandas as follows:'''\n",
    "import pandas as pd\n",
    "\n",
    "data = {'Name': ['Alice', 'Bob', 'Charlie'],\n",
    "        'Age': [25, 30, 35],\n",
    "        'Gender': ['Female', 'Male', 'Male']}\n",
    "\n",
    "df = pd.DataFrame(data)\n",
    "\n",
    "print(df)"
   ]
  },
  {
   "cell_type": "code",
   "execution_count": null,
   "id": "46d1ff88",
   "metadata": {},
   "outputs": [],
   "source": [
    "#Q.5> What are some common functions you can use to manipulate data in a Pandas DataFrame? Can\n",
    "     #you give an example of when you might use one of these functions?\n",
    "\n",
    "    # 1. head() and tail(): These functions are used to view the first and last n rows of a DataFrame, \n",
    "    #    respectively. They can be useful for quickly getting a sense of what the data looks like.\n",
    "     #   Example:\n",
    "import pandas as pd\n",
    "\n",
    "df = pd.read_csv('titanic.csv')\n",
    "\n",
    "# View the first 5 rows\n",
    "print(df.head())\n",
    "\n",
    "# View the last 5 rows\n",
    "print(df.tail())\n",
    "    \n",
    "   # 2. describe(): This function provides a statistical summary of the DataFrame, including the count, \n",
    "    #    mean, standard deviation, minimum, and maximum values, among others.\n",
    "     #   Example:\n",
    "import pandas as pd\n",
    "\n",
    "df = pd.read_csv('titanic.csv')\n",
    "\n",
    "# Get a statistical summary of the DataFrame\n",
    "print(df.describe())\n",
    "\n",
    "    # 3. groupby(): This function is used to group data in a DataFrame based on one or more columns. \n",
    "     #   It can be useful for calculating aggregate statistics for different groups.\n",
    "      #  Example:\n",
    "import pandas as pd\n",
    "\n",
    "df = pd.read_csv('titanic.csv')\n",
    "\n",
    "# Group the data by the 'category' column and calculate the mean of the 'value' column\n",
    "grouped = df.groupby('category').mean()\n",
    "\n",
    "print(grouped)\n",
    "\n",
    "   #  4. sort_values(): This function is used to sort the rows of a DataFrame based on one or more columns.\n",
    "    # Example:\n",
    "import pandas as pd\n",
    "\n",
    "df = pd.read_csv('titanic.csv')\n",
    "\n",
    "# Sort the DataFrame by the 'value' column in descending order\n",
    "sorted_df = df.sort_values('value', ascending=False)\n",
    "\n",
    "print(sorted_df)\n",
    "Q"
   ]
  },
  {
   "cell_type": "code",
   "execution_count": null,
   "id": "2f507ce4",
   "metadata": {},
   "outputs": [],
   "source": [
    "Q.6> Which of the following is mutable in nature Series, DataFrame, Panel?\n",
    "Ans> In Pandas, both Series and DataFrame are mutable in nature, while Panel is considered deprecated \n",
    "     and has been replaced by multi-dimensional arrays, such as numpy.ndarray or xarray.DataArray, \n",
    "     which are also mutable.\n",
    "\n",
    "     In a mutable object, the contents of the object can be modified after it is created. This means \n",
    "     that you can add, remove, or update elements in a Series or DataFrame after they are created."
   ]
  },
  {
   "cell_type": "code",
   "execution_count": null,
   "id": "58d5704a",
   "metadata": {},
   "outputs": [],
   "source": [
    "#Q.7> Create a DataFrame using multiple Series. Explain with an example.\n",
    "import pandas as pd\n",
    "\n",
    "# Create a Series for each column of data\n",
    "names = pd.Series(['Alice', 'Bob', 'Charlie', 'David', 'Emily'])\n",
    "ages = pd.Series([25, 30, 35, 40, 45])\n",
    "genders = pd.Series(['Female', 'Male', 'Male', 'Male', 'Female'])\n",
    "\n",
    "# Combine the Series into a DataFrame\n",
    "df = pd.DataFrame({'Name': names, 'Age': ages, 'Gender': genders})\n",
    "\n",
    "# Print the resulting DataFrame\n",
    "print(df)"
   ]
  }
 ],
 "metadata": {
  "kernelspec": {
   "display_name": "Python 3 (ipykernel)",
   "language": "python",
   "name": "python3"
  },
  "language_info": {
   "codemirror_mode": {
    "name": "ipython",
    "version": 3
   },
   "file_extension": ".py",
   "mimetype": "text/x-python",
   "name": "python",
   "nbconvert_exporter": "python",
   "pygments_lexer": "ipython3",
   "version": "3.9.13"
  }
 },
 "nbformat": 4,
 "nbformat_minor": 5
}
